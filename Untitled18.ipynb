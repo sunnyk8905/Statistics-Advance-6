{
 "cells": [
  {
   "cell_type": "code",
   "execution_count": null,
   "id": "f931505a-687e-48ca-b6af-88c1f62fe2d4",
   "metadata": {},
   "outputs": [],
   "source": [
    "Q1. Explain the assumptions required to use ANOVA and provide examples of violations that could impact\n",
    "the validity of the results."
   ]
  },
  {
   "cell_type": "code",
   "execution_count": null,
   "id": "830fcfeb-ba82-48ec-a1cf-2425444ab52b",
   "metadata": {},
   "outputs": [],
   "source": [
    "=>Independence: The observations within each group must be independent of each other. \n",
    "=>Normality: The data within each group should follow a normal distribution.\n",
    "=>Homogeneity of Variance (Homoscedasticity): The variance of the data should be approximately equal across all groups. \n",
    "=>Random Sampling: The data should be obtained through random sampling from the population of interest.\n",
    "Example:-\n",
    "Non-Independence: If the data points within groups are not independent, it can lead to biased results. \n",
    "For example, in a study where the performance of students in multiple schools is compared, but some students are present in\n",
    " more than one school, violating the independence assumption."
   ]
  },
  {
   "cell_type": "code",
   "execution_count": null,
   "id": "a8664e22-4ec4-477d-9208-098b7cefb081",
   "metadata": {},
   "outputs": [],
   "source": [
    "Q2. What are the three types of ANOVA, and in what situations would each be used?"
   ]
  },
  {
   "cell_type": "code",
   "execution_count": null,
   "id": "9cb0fec6-af45-4c82-979e-56b2e840d8f9",
   "metadata": {},
   "outputs": [],
   "source": [
    "=>One-Way ANOVA:\n",
    "One-Way ANOVA is used when you have one categorical independent variable with three or more levels,and a continuous dependent \n",
    "variable.\n",
    "=>Two-Way ANOVA:\n",
    "Two-Way ANOVA involves two categorical independent variables (factors) and one continuous dependent variable. \n",
    "=>Repeated Measures ANOVA:\n",
    "Repeated Measures ANOVA is used when the same participants are measured under multiple conditions or at multiple time points."
   ]
  },
  {
   "cell_type": "code",
   "execution_count": null,
   "id": "f4e82eff-3642-4928-9317-82223f36b802",
   "metadata": {},
   "outputs": [],
   "source": [
    "Q3. What is the partitioning of variance in ANOVA, and why is it important to understand this concept?"
   ]
  },
  {
   "cell_type": "code",
   "execution_count": null,
   "id": "4235970e-50be-4207-8d5d-af6484cfbdf1",
   "metadata": {},
   "outputs": [],
   "source": [
    "The partitioning of variance in ANOVA refers to the process of breaking down the total variance observed in the data into\n",
    "different components, each associated with a specific source of variation. \n",
    "\n",
    "Assess the significance of the independent variable(s) in explaining the variation in the dependent variable.\n",
    "Interpret the relative importance of different factors and interactions in influencing the outcome.\n",
    "Identify potential sources of error or noise in the data.\n",
    "Make informed decisions about the experimental design and data collection process.\n",
    "Provide insights into the relationships between variables and inform further investigations."
   ]
  },
  {
   "cell_type": "code",
   "execution_count": null,
   "id": "1510493f-fc33-4c68-9170-3a3dd735b187",
   "metadata": {},
   "outputs": [],
   "source": [
    "Q4. How would you calculate the total sum of squares (SST), explained sum of squares (SSE), and residual\n",
    "sum of squares (SSR) in a one-way ANOVA using Python?"
   ]
  },
  {
   "cell_type": "code",
   "execution_count": 1,
   "id": "f557f07c-0a9c-441c-8122-52c5ab7269aa",
   "metadata": {},
   "outputs": [
    {
     "name": "stdout",
     "output_type": "stream",
     "text": [
      "Total Sum of Squares (SST): 142.9333333333333\n",
      "Explained Sum of Squares (SSE): 27.73333333333335\n",
      "Residual Sum of Squares (SSR): 115.2\n"
     ]
    }
   ],
   "source": [
    "import numpy as np\n",
    "group1 = [10, 12, 14, 15, 18]\n",
    "group2 = [8, 9, 11, 13, 16]\n",
    "group3 = [7, 9, 10, 12, 15]\n",
    "\n",
    "all_data = np.concatenate([group1, group2, group3])\n",
    "\n",
    "grand_mean = np.mean(all_data)\n",
    "\n",
    "n_group1 = len(group1)\n",
    "n_group2 = len(group2)\n",
    "n_group3 = len(group3)\n",
    "\n",
    "mean_group1 = np.mean(group1)\n",
    "mean_group2 = np.mean(group2)\n",
    "mean_group3 = np.mean(group3)\n",
    "\n",
    "sst = np.sum((all_data - grand_mean) ** 2)\n",
    "\n",
    "sse = n_group1 * (mean_group1 - grand_mean) ** 2 + \\\n",
    "      n_group2 * (mean_group2 - grand_mean) ** 2 + \\\n",
    "      n_group3 * (mean_group3 - grand_mean) ** 2\n",
    "\n",
    "\n",
    "ssr = np.sum((group1 - mean_group1) ** 2) + \\\n",
    "      np.sum((group2 - mean_group2) ** 2) + \\\n",
    "      np.sum((group3 - mean_group3) ** 2)\n",
    "\n",
    "# Print the results\n",
    "print(\"Total Sum of Squares (SST):\", sst)\n",
    "print(\"Explained Sum of Squares (SSE):\", sse)\n",
    "print(\"Residual Sum of Squares (SSR):\", ssr)\n"
   ]
  },
  {
   "cell_type": "code",
   "execution_count": null,
   "id": "b1aa793b-bd77-46f9-9928-d2f9c746d431",
   "metadata": {},
   "outputs": [],
   "source": [
    "Q5. In a two-way ANOVA, how would you calculate the main effects and interaction effects using Python?"
   ]
  },
  {
   "cell_type": "code",
   "execution_count": null,
   "id": "c9ecca97-3360-4056-9cd0-39eb6ca788cf",
   "metadata": {},
   "outputs": [],
   "source": [
    "import pandas as pd\n",
    "import statsmodels.api as sm\n",
    "from statsmodels.formula.api import ols\n",
    "\n",
    "# Sample data for the two-way ANOVA (replace these with your own data)\n",
    "data = {\n",
    "    'Group1': [10, 12, 14, 15, 18],\n",
    "    'Group2': [8, 9, 11, 13, 16],\n",
    "    'Group3': [7, 9, 10, 12, 15],\n",
    "    'Factor1': ['A', 'A', 'B', 'B', 'C'],  # Factor 1 levels\n",
    "    'Factor2': ['X', 'Y', 'X', 'Y', 'X'],  # Factor 2 levels\n",
    "}\n",
    "\n",
    "# Create a DataFrame from the data\n",
    "df = pd.DataFrame(data)\n",
    "\n",
    "# Fit the two-way ANOVA model\n",
    "formula = 'Value ~ C(Factor1) + C(Factor2) + C(Factor1):C(Factor2)'\n",
    "model = ols(formula, data=df).fit()\n",
    "anova_table = sm.stats.anova_lm(model, typ=2)\n",
    "\n",
    "# Extract the main effects and interaction effects\n",
    "main_effect_factor1 = anova_table.loc['C(Factor1)', 'sum_sq']\n",
    "main_effect_factor2 = anova_table.loc['C(Factor2)', 'sum_sq']\n",
    "interaction_effect = anova_table.loc['C(Factor1):C(Factor2)', 'sum_sq']\n",
    "\n",
    "# Print the results\n",
    "print(\"Main Effect for Factor 1:\", main_effect_factor1)\n",
    "print(\"Main Effect for Factor 2:\", main_effect_factor2)\n",
    "print(\"Interaction Effect:\", interaction_effect)\n"
   ]
  },
  {
   "cell_type": "code",
   "execution_count": null,
   "id": "5dac1c3c-ec6a-4a12-84fd-3c3f6c022c01",
   "metadata": {},
   "outputs": [],
   "source": [
    "Q6. Suppose you conducted a one-way ANOVA and obtained an F-statistic of 5.23 and a p-value of 0.02.\n",
    "What can you conclude about the differences between the groups, and how would you interpret these\n",
    "results?"
   ]
  },
  {
   "cell_type": "code",
   "execution_count": null,
   "id": "934e3b18-14d2-410b-8a80-ecaa280e48a4",
   "metadata": {},
   "outputs": [],
   "source": [
    "F-Statistic (5.23)\n",
    "The p-value associated with the F-statistic is 0.02. \n",
    "Based on the results, we can conclude that there are significant differences between the means of the groups. \n",
    "Since the p-value (0.02) is less than the commonly chosen significance level of 0.05, we reject the null hypothesis \n",
    "that all group means are equal. Instead, we accept the alternative hypothesis, \n",
    "which states that at least one group mean is significantly different from the others.\n",
    "\n",
    "these results do not tell us which specific groups are different from each other; post-hoc tests or pairwise comparisons are\n",
    "necessary to determine which groups are significantly different if the overall ANOVA test is significant."
   ]
  },
  {
   "cell_type": "code",
   "execution_count": null,
   "id": "4b532cb6-fad2-4908-a24b-5c8ccfb92f2c",
   "metadata": {},
   "outputs": [],
   "source": [
    "Q7. In a repeated measures ANOVA, how would you handle missing data, and what are the potential\n",
    "consequences of using different methods to handle missing data?"
   ]
  },
  {
   "cell_type": "code",
   "execution_count": null,
   "id": "6286f449-c0ae-4449-b27e-70b85996b859",
   "metadata": {},
   "outputs": [],
   "source": [
    "There are several methods to handle missing data are\n",
    "=>Complete Case Analysis (Listwise Deletion):\n",
    "This method involves removing any participant with missing data from the analysis. \n",
    "=>Mean Imputation:\n",
    "Mean imputation involves replacing missing values with the mean value of the observed data for that variable.\n",
    "=>Last Observation Carried Forward (LOCF):\n",
    "LOCF involves replacing missing values with the last observed value for that participant. \n",
    "\n",
    "Using different methods to handle missing data can lead to varying results and conclusions. \n",
    "Complete case analysis can reduce statistical power and potentially introduce bias, while \n",
    "imputation methods may distort the distribution of the data and underestimate the standard errors."
   ]
  },
  {
   "cell_type": "code",
   "execution_count": null,
   "id": "1bc5d4f2-5ff9-42fd-8cdc-e7ffba41e4b8",
   "metadata": {},
   "outputs": [],
   "source": [
    "Q8. What are some common post-hoc tests used after ANOVA, and when would you use each one? Provide\n",
    "an example of a situation where a post-hoc test might be necessary."
   ]
  },
  {
   "cell_type": "code",
   "execution_count": null,
   "id": "576da092-04b2-469d-94e5-dd37af2cd995",
   "metadata": {},
   "outputs": [],
   "source": [
    "Some common post-hoc tests used after ANOVA include:\n",
    "\n",
    "Tukey's Honestly Significant Difference (HSD) Test:\n",
    "It is a widely used post-hoc test when the sample sizes are equal across groups.\n",
    "Bonferroni Correction:\n",
    "The Bonferroni correction adjusts the significance level for each pairwise comparison to control the familywise error rate.\n",
    "Scheffe's Test:\n",
    " It can be used when sample sizes are unequal across groups and is robust to various types of designs and assumptions.\n",
    "Example situation:\n",
    "Suppose you conducted a study to compare the effectiveness of three different teaching methods (A, B, and C) on students'\n",
    "test scores. After performing a one-way ANOVA, you found that there is a significant difference in the means of the three \n",
    "teaching methods (p < 0.05)."
   ]
  },
  {
   "cell_type": "code",
   "execution_count": null,
   "id": "2fac4069-9123-47f5-9160-8876cc2fbe98",
   "metadata": {},
   "outputs": [],
   "source": [
    "Q9. A researcher wants to compare the mean weight loss of three diets: A, B, and C. They collect data from\n",
    "50 participants who were randomly assigned to one of the diets. Conduct a one-way ANOVA using Python\n",
    "to determine if there are any significant differences between the mean weight loss of the three diets.\n",
    "Report the F-statistic and p-value, and interpret the results."
   ]
  },
  {
   "cell_type": "code",
   "execution_count": null,
   "id": "72d45d26-9447-4f58-8cb0-4b766804c082",
   "metadata": {},
   "outputs": [],
   "source": [
    "import numpy as np\n",
    "import scipy.stats as stats\n",
    "\n",
    "diet_A = [2.5, 3.1, 1.8, 2.9, 3.5, ...]  \n",
    "diet_B = [1.7, 2.2, 1.5, 2.1, 2.8, ...] \n",
    "diet_C = [1.0, 1.5, 1.2, 0.8, 2.0, ...]  \n",
    "\n",
    "\n",
    "all_weight_loss = np.concatenate([diet_A, diet_B, diet_C])\n",
    "\n",
    "\n",
    "group_labels = ['Diet A'] * len(diet_A) + ['Diet B'] * len(diet_B) + ['Diet C'] * len(diet_C)\n",
    "\n",
    "\n",
    "f_statistic, p_value = stats.f_oneway(diet_A, diet_B, diet_C)\n",
    "\n",
    "print(\"F-Statistic:\", f_statistic)\n",
    "print(\"P-value:\", p_value)\n"
   ]
  },
  {
   "cell_type": "code",
   "execution_count": null,
   "id": "6143312c-96f9-4253-8bd4-df5ac6acfd04",
   "metadata": {},
   "outputs": [],
   "source": [
    "If the p-value is less than the chosen significance level (commonly 0.05), you can reject the null hypothesis, indicating \n",
    " that there are significant differences between the mean weight loss of the three diets."
   ]
  },
  {
   "cell_type": "code",
   "execution_count": null,
   "id": "b71121a0-86af-4af0-99e8-31a2c689fb29",
   "metadata": {},
   "outputs": [],
   "source": [
    "Q10. A company wants to know if there are any significant differences in the average time it takes to\n",
    "complete a task using three different software programs: Program A, Program B, and Program C. They\n",
    "randomly assign 30 employees to one of the programs and record the time it takes each employee to\n",
    "complete the task. Conduct a two-way ANOVA using Python to determine if there are any main effects or\n",
    "interaction effects between the software programs and employee experience level (novice vs.\n",
    "experienced). Report the F-statistics and p-values, and interpret the results."
   ]
  },
  {
   "cell_type": "code",
   "execution_count": null,
   "id": "2099fbe9-60ea-4c96-b46f-3158b8140002",
   "metadata": {},
   "outputs": [],
   "source": [
    "import pandas as pd\n",
    "import statsmodels.api as sm\n",
    "from statsmodels.formula.api import ols\n",
    "\n",
    "data = {\n",
    "    'Software': ['A', 'B', 'C'] * 20,  \n",
    "    'Experience': ['Novice'] * 30 + ['Experienced'] * 30,  \n",
    "    'Time': [12, 15, 14, 18, 16, ...],  \n",
    "}\n",
    "\n",
    "\n",
    "df = pd.DataFrame(data)\n",
    "\n",
    "\n",
    "formula = 'Time ~ C(Software) + C(Experience) + C(Software):C(Experience)'\n",
    "model = ols(formula, data=df).fit()\n",
    "anova_table = sm.stats.anova_lm(model, typ=2)\n",
    "\n",
    "\n",
    "print(anova_table)\n"
   ]
  },
  {
   "cell_type": "code",
   "execution_count": null,
   "id": "607908f8-a3ac-4d40-8807-80de49c7a122",
   "metadata": {},
   "outputs": [],
   "source": [
    "In the ANOVA table, you will see three main effects: one for the software programs, one for the employee experience levels, \n",
    "and one for the interaction effect between the two factors.\n",
    "the two-way ANOVA results will help you determine whether there are significant main effects for the software programs and \n",
    "employee experience levels and whether there is an interaction effect between the two factors."
   ]
  },
  {
   "cell_type": "code",
   "execution_count": null,
   "id": "18031e79-b043-4e77-b947-cbe4b8811b7e",
   "metadata": {},
   "outputs": [],
   "source": [
    "Q11. An educational researcher is interested in whether a new teaching method improves student test\n",
    "scores. They randomly assign 100 students to either the control group (traditional teaching method) or the\n",
    "experimental group (new teaching method) and administer a test at the end of the semester. Conduct a\n",
    "two-sample t-test using Python to determine if there are any significant differences in test scores\n",
    "between the two groups. If the results are significant, follow up with a post-hoc test to determine which\n",
    "group(s) differ significantly from each other."
   ]
  },
  {
   "cell_type": "code",
   "execution_count": null,
   "id": "4574b9b9-6046-482c-abad-f3d5b42b9302",
   "metadata": {},
   "outputs": [],
   "source": [
    "import numpy as np\n",
    "import pandas as pd\n",
    "import scipy.stats as stats\n",
    "from statsmodels.stats.multicomp import pairwise_tukeyhsd\n",
    "\n",
    "# Sample data for test scores for control and experimental groups (replace these with your own data)\n",
    "control_group = [78, 82, 85, 76, 80, ...]  # Test scores for control group\n",
    "experimental_group = [86, 90, 88, 92, 85, ...]  # Test scores for experimental group\n",
    "\n",
    "# Perform two-sample t-test\n",
    "t_statistic, p_value = stats.ttest_ind(control_group, experimental_group)\n",
    "\n",
    "# Print the results of the t-test\n",
    "print(\"T-statistic:\", t_statistic)\n",
    "print(\"P-value:\", p_value)\n",
    "\n",
    "# Follow up with post-hoc test (Tukey's HSD) if the results are significant (p-value < 0.05)\n",
    "if p_value < 0.05:\n",
    "    # Combine all the test scores into a single array\n",
    "    all_test_scores = np.concatenate([control_group, experimental_group])\n",
    "    \n",
    "    # Create corresponding group labels for each group\n",
    "    group_labels = ['Control'] * len(control_group) + ['Experimental'] * len(experimental_group)\n",
    "    \n",
    "    # Create a DataFrame from the data\n",
    "    df = pd.DataFrame({'Test Scores': all_test_scores, 'Group': group_labels})\n",
    "    \n",
    "    # Perform Tukey's HSD post-hoc test\n",
    "    tukey_result = pairwise_tukeyhsd(df['Test Scores'], df['Group'])\n",
    "    print(tukey_result)\n"
   ]
  },
  {
   "cell_type": "code",
   "execution_count": null,
   "id": "5314bd94-4473-409c-b6bc-46f9056a79be",
   "metadata": {},
   "outputs": [],
   "source": [
    "Replace the control_group and experimental_group lists with your actual test score data for each group.\n",
    "The code will then perform the two-sample t-test and provide the t-statistic and p-value for the comparison."
   ]
  },
  {
   "cell_type": "code",
   "execution_count": null,
   "id": "ea45cc17-bde1-4796-a368-edd51c2fa132",
   "metadata": {},
   "outputs": [],
   "source": [
    "Q12. A researcher wants to know if there are any significant differences in the average daily sales of three\n",
    "retail stores: Store A, Store B, and Store C. They randomly select 30 days and record the sales for each store\n",
    "on those days. Conduct a repeated measures ANOVA using Python to determine if there are any\n",
    "\n",
    "significant differences in sales between the three stores. If the results are significant, follow up with a post-\n",
    "hoc test to determine which store(s) differ significantly from each other."
   ]
  },
  {
   "cell_type": "code",
   "execution_count": null,
   "id": "15813100-97aa-4717-bb29-a0be14b3f3e7",
   "metadata": {},
   "outputs": [],
   "source": [
    "import numpy as np\n",
    "import pandas as pd\n",
    "import statsmodels.api as sm\n",
    "from statsmodels.formula.api import ols\n",
    "from statsmodels.stats.multicomp import pairwise_tukeyhsd\n",
    "\n",
    "# Sample data for daily sales for each store (replace these with your own data)\n",
    "store_A_sales = [1000, 950, 1050, 1100, 900, ...]  # Daily sales for Store A\n",
    "store_B_sales = [900, 850, 950, 1000, 800, ...]    # Daily sales for Store B\n",
    "store_C_sales = [1200, 1150, 1100, 1250, 1300, ...] # Daily sales for Store C\n",
    "\n",
    "# Combine all the sales data into a single array\n",
    "all_sales = np.concatenate([store_A_sales, store_B_sales, store_C_sales])\n",
    "\n",
    "# Create corresponding group labels for each store\n",
    "group_labels = ['Store A'] * len(store_A_sales) + ['Store B'] * len(store_B_sales) + ['Store C'] * len(store_C_sales)\n",
    "\n",
    "# Create a DataFrame from the data\n",
    "df = pd.DataFrame({'Sales': all_sales, 'Store': group_labels})\n",
    "\n",
    "# Fit the one-way repeated measures ANOVA model\n",
    "formula = 'Sales ~ C(Store)'\n",
    "model = ols(formula, data=df).fit()\n",
    "anova_table = sm.stats.anova_lm(model, typ=2)\n",
    "\n",
    "# Print the results of the repeated measures ANOVA\n",
    "print(anova_table)\n",
    "\n",
    "# Follow up with post-hoc test (Tukey's HSD) if the results are significant (p-value < 0.05)\n",
    "if anova_table['PR(>F)'][0] < 0.05:\n",
    "    # Perform Tukey's HSD post-hoc test\n",
    "    tukey_result = pairwise_tukeyhsd(df['Sales'], df['Store'])\n",
    "    print(tukey_result)\n"
   ]
  },
  {
   "cell_type": "code",
   "execution_count": null,
   "id": "4c8f2402-796e-4e85-b17d-72aa37e3541e",
   "metadata": {},
   "outputs": [],
   "source": [
    "Replace the store_A_sales, store_B_sales, and store_C_sales lists with your actual daily sales data for each store. \n",
    "The code will then perform the repeated measures ANOVA and provide the F-statistic and p-value for the analysis."
   ]
  }
 ],
 "metadata": {
  "kernelspec": {
   "display_name": "Python 3 (ipykernel)",
   "language": "python",
   "name": "python3"
  },
  "language_info": {
   "codemirror_mode": {
    "name": "ipython",
    "version": 3
   },
   "file_extension": ".py",
   "mimetype": "text/x-python",
   "name": "python",
   "nbconvert_exporter": "python",
   "pygments_lexer": "ipython3",
   "version": "3.10.8"
  }
 },
 "nbformat": 4,
 "nbformat_minor": 5
}
